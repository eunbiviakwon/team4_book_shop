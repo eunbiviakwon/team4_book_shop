{
 "cells": [
  {
   "cell_type": "code",
   "execution_count": 17,
   "metadata": {},
   "outputs": [],
   "source": [
    "# !pip install pandas \n",
    "# !pip install requests\n",
    "#!pip install beautifulsoup4"
   ]
  },
  {
   "cell_type": "code",
   "execution_count": 3,
   "metadata": {},
   "outputs": [],
   "source": [
    "import requests\n",
    "from bs4 import BeautifulSoup"
   ]
  },
  {
   "cell_type": "code",
   "execution_count": 7,
   "metadata": {},
   "outputs": [
    {
     "name": "stdout",
     "output_type": "stream",
     "text": [
      "javascript\n",
      "javascript\n"
     ]
    }
   ],
   "source": [
    "keyword = input()\n",
    "print(keyword)"
   ]
  },
  {
   "cell_type": "code",
   "execution_count": 8,
   "metadata": {},
   "outputs": [],
   "source": [
    "URL='http://www.yes24.com/searchcorner/Search?keywordAd=&keyword=&domain=ALL&qdomain=%C0%FC%C3%BC&Wcode=001_005&query='+keyword"
   ]
  },
  {
   "cell_type": "code",
   "execution_count": 9,
   "metadata": {},
   "outputs": [],
   "source": [
    "response = requests.get(URL)"
   ]
  },
  {
   "cell_type": "code",
   "execution_count": 10,
   "metadata": {},
   "outputs": [],
   "source": [
    "search_html = response.text"
   ]
  },
  {
   "cell_type": "code",
   "execution_count": 11,
   "metadata": {},
   "outputs": [],
   "source": [
    "soup= BeautifulSoup(search_html)"
   ]
  },
  {
   "cell_type": "code",
   "execution_count": null,
   "metadata": {},
   "outputs": [],
   "source": []
  },
  {
   "cell_type": "code",
   "execution_count": 12,
   "metadata": {},
   "outputs": [],
   "source": [
    "div_goodsList = soup.select_one('div.goodsList')\n",
    "td_goods_infogrp = div_goodsList.select('td.goods_infogrp')"
   ]
  },
  {
   "cell_type": "code",
   "execution_count": 13,
   "metadata": {},
   "outputs": [],
   "source": [
    "search_list = []\n",
    "href_list = []\n",
    "for i,ii in enumerate(td_goods_infogrp):\n",
    "    test = ii.select_one('a')\n",
    "    search_list.append(str(test.select_one('strong')).replace(\"<strong>\",\"\").replace(\"</strong>\",\"\"))\n",
    "    \n",
    "    href = 'http://www.yes24.com'+test['href']\n",
    "    href_list.append(href)"
   ]
  },
  {
   "cell_type": "code",
   "execution_count": 14,
   "metadata": {},
   "outputs": [
    {
     "data": {
      "text/plain": [
       "['http://www.yes24.com/Product/Goods/67883315?scode=032&OzSrank=1',\n",
       " 'http://www.yes24.com/Product/Goods/83573339?scode=032&OzSrank=2',\n",
       " 'http://www.yes24.com/Product/Goods/11781589?scode=032&OzSrank=3',\n",
       " 'http://www.yes24.com/Product/Goods/59461086?scode=032&OzSrank=4',\n",
       " 'http://www.yes24.com/Product/Goods/78586788?scode=032&OzSrank=5',\n",
       " 'http://www.yes24.com/Product/Goods/15381085?scode=032&OzSrank=6',\n",
       " 'http://www.yes24.com/Product/Goods/71127080?scode=032&OzSrank=7',\n",
       " 'http://www.yes24.com/Product/Goods/85019231?scode=032&OzSrank=8',\n",
       " 'http://www.yes24.com/Product/Goods/83494638?scode=032&OzSrank=9',\n",
       " 'http://www.yes24.com/Product/Goods/64692022?scode=032&OzSrank=10',\n",
       " 'http://www.yes24.com/Product/Goods/35306392?scode=032&OzSrank=11',\n",
       " 'http://www.yes24.com/Product/Goods/59410698?scode=032&OzSrank=12',\n",
       " 'http://www.yes24.com/Product/Goods/59156884?scode=032&OzSrank=13',\n",
       " 'http://www.yes24.com/Product/Goods/39116024?scode=032&OzSrank=14',\n",
       " 'http://www.yes24.com/Product/Goods/22885878?scode=032&OzSrank=15',\n",
       " 'http://www.yes24.com/Product/Goods/17945480?scode=032&OzSrank=16',\n",
       " 'http://www.yes24.com/Product/Goods/12209875?scode=032&OzSrank=17',\n",
       " 'http://www.yes24.com/Product/Goods/70746749?scode=032&OzSrank=18',\n",
       " 'http://www.yes24.com/Product/Goods/71863932?scode=032&OzSrank=19',\n",
       " 'http://www.yes24.com/Product/Goods/12453376?scode=032&OzSrank=20']"
      ]
     },
     "execution_count": 14,
     "metadata": {},
     "output_type": "execute_result"
    }
   ],
   "source": [
    "href_list"
   ]
  },
  {
   "cell_type": "code",
   "execution_count": 217,
   "metadata": {
    "scrolled": true
   },
   "outputs": [
    {
     "data": {
      "text/plain": [
       "{'생활코딩! HTML+CSS+자바스크립트': 'http://www.yes24.com/Product/Goods/67883315?scode=032&OzSrank=1',\n",
       " 'Do it! 웹 사이트 따라 만들기': 'http://www.yes24.com/Product/Goods/83573339?scode=032&OzSrank=2',\n",
       " '인사이드 자바스크립트 Inside JavaScript': 'http://www.yes24.com/Product/Goods/11781589?scode=032&OzSrank=3',\n",
       " 'Do it! 자바스크립트 + 제이쿼리 입문': 'http://www.yes24.com/Product/Goods/59461086?scode=032&OzSrank=4',\n",
       " '코어 자바스크립트': 'http://www.yes24.com/Product/Goods/78586788?scode=032&OzSrank=5',\n",
       " 'HTTP 완벽 가이드': 'http://www.yes24.com/Product/Goods/15381085?scode=032&OzSrank=6',\n",
       " 'Do it! 웹 프로그래밍을 위한 자바스크립트 기본 편': 'http://www.yes24.com/Product/Goods/71127080?scode=032&OzSrank=7',\n",
       " '자바스크립트 코딩의 기술': 'http://www.yes24.com/Product/Goods/85019231?scode=032&OzSrank=8',\n",
       " '제주코딩베이스캠프 Code Festival , JavaScript 100제 1부': 'http://www.yes24.com/Product/Goods/83494638?scode=032&OzSrank=9',\n",
       " '리팩토링 자바스크립트 Refactoring JavaScript': 'http://www.yes24.com/Product/Goods/64692022?scode=032&OzSrank=10',\n",
       " '명품 HTML5+CSS3+Javascript 웹 프로그래밍': 'http://www.yes24.com/Product/Goods/35306392?scode=032&OzSrank=11',\n",
       " '모던 자바스크립트 입문 ': 'http://www.yes24.com/Product/Goods/59410698?scode=032&OzSrank=12',\n",
       " 'JavaScript가 보이는 그림책': 'http://www.yes24.com/Product/Goods/59156884?scode=032&OzSrank=13',\n",
       " '모던 웹을 위한 JavaScript + jQuery 입문': 'http://www.yes24.com/Product/Goods/39116024?scode=032&OzSrank=14',\n",
       " 'Learning JavaScript Data Structures and Algorithms 한국어판': 'http://www.yes24.com/Product/Goods/22885878?scode=032&OzSrank=15',\n",
       " 'JavaScript Promise - Hanbit eBook Realtime 90': 'http://www.yes24.com/Product/Goods/17945480?scode=032&OzSrank=16',\n",
       " '모던 자바스크립트 Modern JavaScript ': 'http://www.yes24.com/Product/Goods/12209875?scode=032&OzSrank=17',\n",
       " '초보자를 위한 JavaScript 200제': 'http://www.yes24.com/Product/Goods/70746749?scode=032&OzSrank=18',\n",
       " '머신러닝 TensorFlow.js JavaScript': 'http://www.yes24.com/Product/Goods/71863932?scode=032&OzSrank=19',\n",
       " 'JavaScript Testing ': 'http://www.yes24.com/Product/Goods/12453376?scode=032&OzSrank=20'}"
      ]
     },
     "execution_count": 217,
     "metadata": {},
     "output_type": "execute_result"
    }
   ],
   "source": [
    "book_research_list_data={}\n",
    "for href, title in zip(href_list,search_list):\n",
    "    book_research_list_data[title]=href\n",
    "book_research_list_data\n",
    "    "
   ]
  },
  {
   "cell_type": "code",
   "execution_count": 218,
   "metadata": {
    "scrolled": true
   },
   "outputs": [
    {
     "data": {
      "text/plain": [
       "['생활코딩! HTML+CSS+자바스크립트',\n",
       " 'Do it! 웹 사이트 따라 만들기',\n",
       " '인사이드 자바스크립트 Inside JavaScript',\n",
       " 'Do it! 자바스크립트 + 제이쿼리 입문',\n",
       " '코어 자바스크립트',\n",
       " 'HTTP 완벽 가이드',\n",
       " 'Do it! 웹 프로그래밍을 위한 자바스크립트 기본 편',\n",
       " '자바스크립트 코딩의 기술',\n",
       " '제주코딩베이스캠프 Code Festival , JavaScript 100제 1부',\n",
       " '리팩토링 자바스크립트 Refactoring JavaScript',\n",
       " '명품 HTML5+CSS3+Javascript 웹 프로그래밍',\n",
       " '모던 자바스크립트 입문 ',\n",
       " 'JavaScript가 보이는 그림책',\n",
       " '모던 웹을 위한 JavaScript + jQuery 입문',\n",
       " 'Learning JavaScript Data Structures and Algorithms 한국어판',\n",
       " 'JavaScript Promise - Hanbit eBook Realtime 90',\n",
       " '모던 자바스크립트 Modern JavaScript ',\n",
       " '초보자를 위한 JavaScript 200제',\n",
       " '머신러닝 TensorFlow.js JavaScript',\n",
       " 'JavaScript Testing ']"
      ]
     },
     "execution_count": 218,
     "metadata": {},
     "output_type": "execute_result"
    }
   ],
   "source": [
    "search_list"
   ]
  },
  {
   "cell_type": "code",
   "execution_count": 214,
   "metadata": {},
   "outputs": [
    {
     "name": "stdout",
     "output_type": "stream",
     "text": [
      "books index number :2\n"
     ]
    }
   ],
   "source": [
    "select_book_number = int(input('books index number :'))"
   ]
  },
  {
   "cell_type": "code",
   "execution_count": 225,
   "metadata": {},
   "outputs": [],
   "source": [
    "name='JavaScript Testing '"
   ]
  },
  {
   "cell_type": "code",
   "execution_count": 226,
   "metadata": {},
   "outputs": [
    {
     "data": {
      "text/plain": [
       "'http://www.yes24.com/Product/Goods/12453376?scode=032&OzSrank=20'"
      ]
     },
     "execution_count": 226,
     "metadata": {},
     "output_type": "execute_result"
    }
   ],
   "source": [
    "book_research_list_data[name]"
   ]
  },
  {
   "cell_type": "code",
   "execution_count": 22,
   "metadata": {},
   "outputs": [],
   "source": [
    "book_selected_info_page_URL= href_list[select_book_number]"
   ]
  },
  {
   "cell_type": "code",
   "execution_count": 23,
   "metadata": {},
   "outputs": [
    {
     "data": {
      "text/plain": [
       "'http://www.yes24.com/Product/Goods/67883315?scode=032&OzSrank=1'"
      ]
     },
     "execution_count": 23,
     "metadata": {},
     "output_type": "execute_result"
    }
   ],
   "source": [
    "book_selected_info_page_URL"
   ]
  },
  {
   "cell_type": "markdown",
   "metadata": {},
   "source": [
    "# detail 정보\n"
   ]
  },
  {
   "cell_type": "code",
   "execution_count": 24,
   "metadata": {},
   "outputs": [],
   "source": [
    "response_detail_page = requests.get(book_selected_info_page_URL)"
   ]
  },
  {
   "cell_type": "code",
   "execution_count": 25,
   "metadata": {},
   "outputs": [],
   "source": [
    "detail_page_html = response_detail_page.text\n",
    "soup = BeautifulSoup(detail_page_html)"
   ]
  },
  {
   "cell_type": "code",
   "execution_count": 26,
   "metadata": {},
   "outputs": [],
   "source": [
    "em_imgBdr = soup.find('em',class_='imgBdr')"
   ]
  },
  {
   "cell_type": "code",
   "execution_count": 27,
   "metadata": {},
   "outputs": [],
   "source": [
    "imgURL = em_imgBdr.find(\"img\")['src']"
   ]
  },
  {
   "cell_type": "code",
   "execution_count": 238,
   "metadata": {},
   "outputs": [
    {
     "data": {
      "text/plain": [
       "'http://image.yes24.com/Goods/67883315/800x0'"
      ]
     },
     "execution_count": 238,
     "metadata": {},
     "output_type": "execute_result"
    }
   ],
   "source": [
    "imgURL"
   ]
  },
  {
   "cell_type": "code",
   "execution_count": 233,
   "metadata": {},
   "outputs": [],
   "source": [
    "\n",
    "\n",
    "outpath = os.path.dirname('/home/kimdooh/바탕화면/')\n",
    "download_URL = em_imgBdr.find(\"img\")[\"alt\"]+'2.jpg'\n",
    "download = outpath+'/'+download_URL"
   ]
  },
  {
   "cell_type": "code",
   "execution_count": 237,
   "metadata": {},
   "outputs": [
    {
     "data": {
      "text/plain": [
       "'/home/kimdooh/바탕화면/생활코딩! HTML+CSS+자바스크립트2.jpg'"
      ]
     },
     "execution_count": 237,
     "metadata": {},
     "output_type": "execute_result"
    }
   ],
   "source": [
    "aa[0]"
   ]
  },
  {
   "cell_type": "code",
   "execution_count": 234,
   "metadata": {},
   "outputs": [
    {
     "data": {
      "text/plain": [
       "('/home/kimdooh/바탕화면/생활코딩! HTML+CSS+자바스크립트2.jpg',\n",
       " <http.client.HTTPMessage at 0x7f2e5ec39cd0>)"
      ]
     },
     "execution_count": 234,
     "metadata": {},
     "output_type": "execute_result"
    }
   ],
   "source": [
    "#URL download\n",
    "aa = urllib.request.urlretrieve(imgURL, download)\n",
    "aa"
   ]
  },
  {
   "cell_type": "code",
   "execution_count": 30,
   "metadata": {},
   "outputs": [
    {
     "data": {
      "text/plain": [
       "'생활코딩! HTML+CSS+자바스크립트'"
      ]
     },
     "execution_count": 30,
     "metadata": {},
     "output_type": "execute_result"
    }
   ],
   "source": [
    "# title\n",
    "h2_gd_name = soup.select_one('h2.gd_name')\n",
    "h2_gd_name.getText()"
   ]
  },
  {
   "cell_type": "code",
   "execution_count": 228,
   "metadata": {
    "scrolled": true
   },
   "outputs": [
    {
     "data": {
      "text/plain": [
       "<dl class=\"yesAlertDl\">\n",
       "<dt>카테고리 분류</dt>\n",
       "<dd>\n",
       "<ul class=\"yesAlertLi\">\n",
       "<li> <em class=\"bl_dot bgYUI\"> </em>\n",
       "<a href=\"http://www.yes24.com/Main/Book.aspx?CategoryNumber=001\">국내도서</a>\n",
       "<em class=\"divi_cate bgYUI\">&gt;</em>\n",
       "<a href=\"/24/Category/Display/001001003\">IT 모바일</a>\n",
       "<em class=\"divi_cate bgYUI\">&gt;</em>\n",
       "<a href=\"/24/Category/Display/001001003020\">웹사이트</a>\n",
       "<em class=\"divi_cate bgYUI\">&gt;</em>\n",
       "<a href=\"/24/Category/Display/001001003020001\">HTML/JavaScript/CSS/jQuery</a>\n",
       "</li>\n",
       "<li> <em class=\"bl_dot bgYUI\"> </em>\n",
       "<a href=\"http://www.yes24.com/Main/Book.aspx?CategoryNumber=001\">국내도서</a>\n",
       "<em class=\"divi_cate bgYUI\">&gt;</em>\n",
       "<a href=\"/24/Category/Display/001001003\">IT 모바일</a>\n",
       "<em class=\"divi_cate bgYUI\">&gt;</em>\n",
       "<a href=\"/24/Category/Display/001001003031\">컴퓨터 공학</a>\n",
       "<em class=\"divi_cate bgYUI\">&gt;</em>\n",
       "<a href=\"/24/Category/Display/001001003031001\">컴퓨터 교육</a>\n",
       "</li>\n",
       "</ul>\n",
       "</dd>\n",
       "</dl>"
      ]
     },
     "execution_count": 228,
     "metadata": {},
     "output_type": "execute_result"
    }
   ],
   "source": [
    "#카테고리\n",
    "categories = soup.find(\"dl\", class_=\"yesAlertDl\")\n",
    "categories"
   ]
  },
  {
   "cell_type": "code",
   "execution_count": 229,
   "metadata": {},
   "outputs": [
    {
     "data": {
      "text/plain": [
       "<ul class=\"yesAlertLi\">\n",
       "<li> <em class=\"bl_dot bgYUI\"> </em>\n",
       "<a href=\"http://www.yes24.com/Main/Book.aspx?CategoryNumber=001\">국내도서</a>\n",
       "<em class=\"divi_cate bgYUI\">&gt;</em>\n",
       "<a href=\"/24/Category/Display/001001003\">IT 모바일</a>\n",
       "<em class=\"divi_cate bgYUI\">&gt;</em>\n",
       "<a href=\"/24/Category/Display/001001003020\">웹사이트</a>\n",
       "<em class=\"divi_cate bgYUI\">&gt;</em>\n",
       "<a href=\"/24/Category/Display/001001003020001\">HTML/JavaScript/CSS/jQuery</a>\n",
       "</li>\n",
       "<li> <em class=\"bl_dot bgYUI\"> </em>\n",
       "<a href=\"http://www.yes24.com/Main/Book.aspx?CategoryNumber=001\">국내도서</a>\n",
       "<em class=\"divi_cate bgYUI\">&gt;</em>\n",
       "<a href=\"/24/Category/Display/001001003\">IT 모바일</a>\n",
       "<em class=\"divi_cate bgYUI\">&gt;</em>\n",
       "<a href=\"/24/Category/Display/001001003031\">컴퓨터 공학</a>\n",
       "<em class=\"divi_cate bgYUI\">&gt;</em>\n",
       "<a href=\"/24/Category/Display/001001003031001\">컴퓨터 교육</a>\n",
       "</li>\n",
       "</ul>"
      ]
     },
     "execution_count": 229,
     "metadata": {},
     "output_type": "execute_result"
    }
   ],
   "source": []
  },
  {
   "cell_type": "code",
   "execution_count": 64,
   "metadata": {},
   "outputs": [],
   "source": []
  },
  {
   "cell_type": "code",
   "execution_count": 66,
   "metadata": {},
   "outputs": [
    {
     "data": {
      "text/plain": [
       "['국내도서', 'IT 모바일', '웹사이트', 'HTML/JavaScript/CSS/jQuery']"
      ]
     },
     "execution_count": 66,
     "metadata": {},
     "output_type": "execute_result"
    }
   ],
   "source": [
    "categories_order_detail"
   ]
  },
  {
   "cell_type": "code",
   "execution_count": null,
   "metadata": {},
   "outputs": [],
   "source": []
  },
  {
   "cell_type": "markdown",
   "metadata": {},
   "source": [
    "### 책소개\n"
   ]
  },
  {
   "cell_type": "code",
   "execution_count": 126,
   "metadata": {},
   "outputs": [
    {
     "data": {
      "text/plain": [
       "<div class=\"gd_infoSet\" id=\"infoset_introduce\">\n",
       "<div class=\"tm_infoSet\">\n",
       "<h4 class=\"tit_txt\">책소개</h4>\n",
       "</div>\n",
       "<div class=\"infoSetCont_wrap\">\n",
       "<div class=\"infoWrap_txt\">\n",
       "<div class=\"infoWrap_txtInner\">\n",
       "<textarea class=\"txtContentText\" style=\"display:none;\">\n",
       "<b>난생 처음으로 프로그래밍을 시작하는 분들이라면 생활코딩 강의로 시작하세요! <br/></b><br/>이고잉 님의 HTML/CSS/자바스크립트 강의는 이미 많은 분들에 의해 검증받은 독창적인 강의로 손꼽히고 있다. 단순히 HTML/CSS/자바스크립트 기술을 알려주는 데서 그치는 것이 아니라 무엇을 모르는지 모르는 상태에서조차 무언가를 배울 수 있는 학습 방법까지도 습득할 수 있다. 초심자를 배려하는 상세한 설명과 통계를 기반으로 하는 실용적인 학습 내용 구성까지, 이 책을 통해 HTML/CSS/자바스크립트를 배운다면 기본은 물론 응용력까지도 금세 키울 수 있을 것이다.                    </textarea>\n",
       "</div>\n",
       "</div>\n",
       "<div class=\"infoWrap_privew\">\n",
       "<ul class=\"yesAlertLi\">\n",
       "<li class=\"txC_blue\"><em class=\"bl_dot bgYUI\"> </em>책의 일부 내용을 미리 읽어보실 수 있습니다. <a class=\"btnC s_size\" href=\"javascript:;\" onclick=\"wiseLog('Pcode', '011_011');openPreviewCheckForProduct(67883315);\"><span class=\"bWrap\"><em class=\"txt\">미리보기</em></span></a></li>\n",
       "</ul>\n",
       "</div>\n",
       "</div>\n",
       "<script>\n",
       "    $(\"#infoset_introduce textarea.txtContentText\").each(function () {\n",
       "        $(this).parent().append(this.value);\n",
       "    });\n",
       "</script>\n",
       "</div>"
      ]
     },
     "execution_count": 126,
     "metadata": {},
     "output_type": "execute_result"
    }
   ],
   "source": [
    "book_info = soup.find('div',id='infoset_introduce')\n",
    "book_info"
   ]
  },
  {
   "cell_type": "code",
   "execution_count": 131,
   "metadata": {},
   "outputs": [],
   "source": [
    "book_introduce_textarea= book_info.select_one('textarea', class_='txtContentText').get_text().replace(\"\\r\\n\", \"\")"
   ]
  },
  {
   "cell_type": "code",
   "execution_count": 245,
   "metadata": {},
   "outputs": [
    {
     "data": {
      "text/plain": [
       "'난생 처음으로 프로그래밍을 시작하는 분들이라면 생활코딩 강의로 시작하세요! 이고잉 님의 HTML/CSS/자바스크립트 강의는 이미 많은 분들에 의해 검증받은 독창적인 강의로 손꼽히고 있다. 단순히 HTML/CSS/자바스크립트 기술을 알려주는 데서 그치는 것이 아니라 무엇을 모르는지 모르는 상태에서조차 무언가를 배울 수 있는 학습 방법까지도 습득할 수 있다. 초심자를 배려하는 상세한 설명과 통계를 기반으로 하는 실용적인 학습 내용 구성까지, 이 책을 통해 HTML/CSS/자바스크립트를 배운다면 기본은 물론 응용력까지도 금세 키울 수 있을 것이다.                    '"
      ]
     },
     "execution_count": 245,
     "metadata": {},
     "output_type": "execute_result"
    }
   ],
   "source": [
    "book_introduce_textarea"
   ]
  },
  {
   "cell_type": "code",
   "execution_count": null,
   "metadata": {},
   "outputs": [],
   "source": []
  },
  {
   "cell_type": "code",
   "execution_count": null,
   "metadata": {},
   "outputs": [],
   "source": [
    "# 목차"
   ]
  },
  {
   "cell_type": "code",
   "execution_count": 133,
   "metadata": {
    "scrolled": true
   },
   "outputs": [
    {
     "data": {
      "text/plain": [
       "[<div class=\"gd_infoSet gd_infoSetCrop\" id=\"infoset_toc\">\n",
       " <div class=\"tm_infoSet\">\n",
       " <h4 class=\"tit_txt\">목차</h4>\n",
       " </div>\n",
       " <div class=\"infoSetCont_wrap\">\n",
       " <div class=\"infoWrap_txt\">\n",
       " <textarea class=\"txtContentText\" style=\"display:none;\">\n",
       " [1부] HTML 편<br/>1. 수업 소개  <br/>2. 프로젝트의 동기 <br/>3. 기획 <br/>4. 코딩과 HTML <br/>5. HTML 코딩과 실습 환경 준비 <br/>6. 기본 문법과 태그 <br/>7. 혁명적인 변화 <br/>8. 통계에 기반한 학습 <br/>9. 줄바꿈: [br] vs. [p] <br/>10. HTML이 중요한 이유 <br/>11. 최후의 문법 속성과 [img] 태그<br/>12. 부모 자식과 목록 <br/>13. 문서의 구조와 슈퍼스타들 <br/>14. HTML 태그의 제왕 <br/>15. 웹 사이트 완성 <br/>16. 원시 웹<br/>17. 인터넷을 여는 열쇠: 서버와 클라이언트 <br/>18. 웹 호스팅: 깃허브 페이지 <br/>19. 웹 서버 운영하기 <br/>__19.1 웹 호스팅: 웹 서버 설치(윈도우) <br/>__19.2 웹 호스팅: 웹 서버와 HTTP(윈도우) <br/>__19.3 웹 서버와 웹 브라우저의 통신(윈도우) <br/>__19.4 웹 서버 설치(macOS) <br/>__19.5 웹 서버와 HTTP(macOS) <br/>__19.6 웹 브라우저와 웹 서버의 통신(macOS) <br/>__19.7 웹 브라우저와 웹 서버의 통신(리눅스) <br/>20. 수업을 마치며 1/3 <br/>21. 수업을 마치며 2/3 <br/>22. 수업을 마치며 3/3 <br/><br/>[2부] CSS 편<br/>1. 수업 소개 <br/>2. CSS가 등장하기 전의 상황 <br/>3. CSS의 등장 <br/>4. CSS의 기본 문법 <br/>5. 혁명적 변화 <br/>6. CSS 속성을 스스로 알아내기 <br/>7. CSS 선택자의 기본 <br/>8. 박스 모델 <br/>9. 박스 모델 써먹기 <br/>10. 그리드 소개 <br/>11. 그리드 써먹기 <br/>12. 미디어 쿼리 소개 <br/>13. 미디어 쿼리 써먹기 <br/>14. CSS 코드의 재사용 <br/>15. 수업을 마치며 <br/><br/>[3부] 자바스크립트 편<br/>1. 수업 소개<br/>2. 수업의 목적 <br/>3. HTML과 JS의 만남: [script] 태그 <br/>4. HTML과 JS의 만남: 이벤트 <br/>5. HTML과 JS의 만남: 콘솔 <br/>6. 데이터 타입 - 문자열과 숫자 <br/>7. 변수와 대입 연산자 <br/>8. 웹 브라우저 제어 <br/>9. CSS 기초: style 속성 <br/>10. CSS 기초: [style] 태그 <br/>11. CSS 기초: 선택자 <br/>12. 제어할 태그 선택하기 <br/>13. 프로그램, 프로그래밍, 프로그래머 <br/>14. 조건문 예고 <br/>15. 비교 연산자와 불리언 <br/>16. 조건문 <br/>17. 조건문의 활용 <br/>18. 중복의 제거를 위한 리팩터링 <br/>19. 반복문 예고 <br/>20. 배열 <br/>21. 반복문  <br/>22. 배열과 반복문  <br/>23. 배열과 반복문의 활용  <br/>24. 함수 예고  <br/>25. 함수  <br/>26. 매개변수와 인자  <br/>27. 함수(return 문)  <br/>28. 함수의 활용  <br/>29. 객체 예고  <br/>30. 객체 쓰기와 읽기  <br/>31. 객체와 반복문  <br/>32. 객체 프로퍼티와 메서드  <br/>33. 객체의 활용 <br/>34. 파일로 쪼개서 정리 정돈하기 <br/>35. 라이브러리와 프레임워크  <br/>36. UI vs. API  <br/>37. 수업을 마치며                  </textarea>\n",
       " </div>\n",
       " <div class=\"btn_halfMore\"><a href=\"javascript:void(0);\" onclick=\"wiseLog('Pcode', '011_009');toggleInfoSet('infoset_toc');\"><em class=\"txt txt_open\">펼쳐보기</em><em class=\"txt txt_close\">접어보기</em><em class=\"bgYUI ico_arr\"></em></a></div>\n",
       " </div>\n",
       " <script>\n",
       "         $(\"#infoset_toc textarea.txtContentText\").each(function () {\n",
       "             $(this).parent().append(this.value);\n",
       "         });\n",
       "     </script>\n",
       " </div>]"
      ]
     },
     "execution_count": 133,
     "metadata": {},
     "output_type": "execute_result"
    }
   ],
   "source": [
    "charter_html = soup.find_all('div',id='infoset_toc')\n",
    "charter_html"
   ]
  },
  {
   "cell_type": "code",
   "execution_count": null,
   "metadata": {},
   "outputs": [],
   "source": []
  },
  {
   "cell_type": "code",
   "execution_count": 185,
   "metadata": {
    "scrolled": true
   },
   "outputs": [
    {
     "name": "stdout",
     "output_type": "stream",
     "text": [
      "<class 'bs4.element.Tag'>\n"
     ]
    },
    {
     "data": {
      "text/plain": [
       "<div class=\"infoWrap_txt\">\n",
       "<textarea class=\"txtContentText\" style=\"display:none;\">\n",
       "[1부] HTML 편<br/>1. 수업 소개  <br/>2. 프로젝트의 동기 <br/>3. 기획 <br/>4. 코딩과 HTML <br/>5. HTML 코딩과 실습 환경 준비 <br/>6. 기본 문법과 태그 <br/>7. 혁명적인 변화 <br/>8. 통계에 기반한 학습 <br/>9. 줄바꿈: [br] vs. [p] <br/>10. HTML이 중요한 이유 <br/>11. 최후의 문법 속성과 [img] 태그<br/>12. 부모 자식과 목록 <br/>13. 문서의 구조와 슈퍼스타들 <br/>14. HTML 태그의 제왕 <br/>15. 웹 사이트 완성 <br/>16. 원시 웹<br/>17. 인터넷을 여는 열쇠: 서버와 클라이언트 <br/>18. 웹 호스팅: 깃허브 페이지 <br/>19. 웹 서버 운영하기 <br/>__19.1 웹 호스팅: 웹 서버 설치(윈도우) <br/>__19.2 웹 호스팅: 웹 서버와 HTTP(윈도우) <br/>__19.3 웹 서버와 웹 브라우저의 통신(윈도우) <br/>__19.4 웹 서버 설치(macOS) <br/>__19.5 웹 서버와 HTTP(macOS) <br/>__19.6 웹 브라우저와 웹 서버의 통신(macOS) <br/>__19.7 웹 브라우저와 웹 서버의 통신(리눅스) <br/>20. 수업을 마치며 1/3 <br/>21. 수업을 마치며 2/3 <br/>22. 수업을 마치며 3/3 <br/><br/>[2부] CSS 편<br/>1. 수업 소개 <br/>2. CSS가 등장하기 전의 상황 <br/>3. CSS의 등장 <br/>4. CSS의 기본 문법 <br/>5. 혁명적 변화 <br/>6. CSS 속성을 스스로 알아내기 <br/>7. CSS 선택자의 기본 <br/>8. 박스 모델 <br/>9. 박스 모델 써먹기 <br/>10. 그리드 소개 <br/>11. 그리드 써먹기 <br/>12. 미디어 쿼리 소개 <br/>13. 미디어 쿼리 써먹기 <br/>14. CSS 코드의 재사용 <br/>15. 수업을 마치며 <br/><br/>[3부] 자바스크립트 편<br/>1. 수업 소개<br/>2. 수업의 목적 <br/>3. HTML과 JS의 만남: [script] 태그 <br/>4. HTML과 JS의 만남: 이벤트 <br/>5. HTML과 JS의 만남: 콘솔 <br/>6. 데이터 타입 - 문자열과 숫자 <br/>7. 변수와 대입 연산자 <br/>8. 웹 브라우저 제어 <br/>9. CSS 기초: style 속성 <br/>10. CSS 기초: [style] 태그 <br/>11. CSS 기초: 선택자 <br/>12. 제어할 태그 선택하기 <br/>13. 프로그램, 프로그래밍, 프로그래머 <br/>14. 조건문 예고 <br/>15. 비교 연산자와 불리언 <br/>16. 조건문 <br/>17. 조건문의 활용 <br/>18. 중복의 제거를 위한 리팩터링 <br/>19. 반복문 예고 <br/>20. 배열 <br/>21. 반복문  <br/>22. 배열과 반복문  <br/>23. 배열과 반복문의 활용  <br/>24. 함수 예고  <br/>25. 함수  <br/>26. 매개변수와 인자  <br/>27. 함수(return 문)  <br/>28. 함수의 활용  <br/>29. 객체 예고  <br/>30. 객체 쓰기와 읽기  <br/>31. 객체와 반복문  <br/>32. 객체 프로퍼티와 메서드  <br/>33. 객체의 활용 <br/>34. 파일로 쪼개서 정리 정돈하기 <br/>35. 라이브러리와 프레임워크  <br/>36. UI vs. API  <br/>37. 수업을 마치며                  </textarea>\n",
       "</div>"
      ]
     },
     "execution_count": 185,
     "metadata": {},
     "output_type": "execute_result"
    }
   ],
   "source": [
    "for i,ii in enumerate(charter_html):\n",
    "    if '<textarea class=\"txtContentText\"'in ii:\n",
    "\n",
    "        chapter_textarea =ii.find('div', class_='infoWrap_txt')\n",
    "print(type(chapter_textarea))\n",
    "chapter_textarea"
   ]
  },
  {
   "cell_type": "code",
   "execution_count": 197,
   "metadata": {},
   "outputs": [],
   "source": [
    "source = 'Lux, the Lady of Luminosity'\n",
    "m = re.findall('..y', source)"
   ]
  },
  {
   "cell_type": "code",
   "execution_count": 210,
   "metadata": {},
   "outputs": [
    {
     "data": {
      "text/plain": [
       "['0', '1', '2', '3', '4', '5', '6', '7', '8', '9']"
      ]
     },
     "execution_count": 210,
     "metadata": {},
     "output_type": "execute_result"
    }
   ],
   "source": [
    "import string\n",
    "printable = string.printable\n",
    "re.findall('\\d', printable)"
   ]
  },
  {
   "cell_type": "code",
   "execution_count": null,
   "metadata": {},
   "outputs": [],
   "source": []
  },
  {
   "cell_type": "code",
   "execution_count": null,
   "metadata": {},
   "outputs": [],
   "source": []
  },
  {
   "cell_type": "code",
   "execution_count": 137,
   "metadata": {},
   "outputs": [
    {
     "name": "stdout",
     "output_type": "stream",
     "text": [
      "\r\n",
      "[1부] HTML 편1. 수업 소개  2. 프로젝트의 동기 3. 기획 4. 코딩과 HTML 5. HTML 코딩과 실습 환경 준비 6. 기본 문법과 태그 7. 혁명적인 변화 8. 통계에 기반한 학습 9. 줄바꿈: [br] vs. [p] 10. HTML이 중요한 이유 11. 최후의 문법 속성과 [img] 태그12. 부모 자식과 목록 13. 문서의 구조와 슈퍼스타들 14. HTML 태그의 제왕 15. 웹 사이트 완성 16. 원시 웹17. 인터넷을 여는 열쇠: 서버와 클라이언트 18. 웹 호스팅: 깃허브 페이지 19. 웹 서버 운영하기 __19.1 웹 호스팅: 웹 서버 설치(윈도우) __19.2 웹 호스팅: 웹 서버와 HTTP(윈도우) __19.3 웹 서버와 웹 브라우저의 통신(윈도우) __19.4 웹 서버 설치(macOS) __19.5 웹 서버와 HTTP(macOS) __19.6 웹 브라우저와 웹 서버의 통신(macOS) __19.7 웹 브라우저와 웹 서버의 통신(리눅스) 20. 수업을 마치며 1/3 21. 수업을 마치며 2/3 22. 수업을 마치며 3/3 [2부] CSS 편1. 수업 소개 2. CSS가 등장하기 전의 상황 3. CSS의 등장 4. CSS의 기본 문법 5. 혁명적 변화 6. CSS 속성을 스스로 알아내기 7. CSS 선택자의 기본 8. 박스 모델 9. 박스 모델 써먹기 10. 그리드 소개 11. 그리드 써먹기 12. 미디어 쿼리 소개 13. 미디어 쿼리 써먹기 14. CSS 코드의 재사용 15. 수업을 마치며 [3부] 자바스크립트 편1. 수업 소개2. 수업의 목적 3. HTML과 JS의 만남: [script] 태그 4. HTML과 JS의 만남: 이벤트 5. HTML과 JS의 만남: 콘솔 6. 데이터 타입 - 문자열과 숫자 7. 변수와 대입 연산자 8. 웹 브라우저 제어 9. CSS 기초: style 속성 10. CSS 기초: [style] 태그 11. CSS 기초: 선택자 12. 제어할 태그 선택하기 13. 프로그램, 프로그래밍, 프로그래머 14. 조건문 예고 15. 비교 연산자와 불리언 16. 조건문 17. 조건문의 활용 18. 중복의 제거를 위한 리팩터링 19. 반복문 예고 20. 배열 21. 반복문  22. 배열과 반복문  23. 배열과 반복문의 활용  24. 함수 예고  25. 함수  26. 매개변수와 인자  27. 함수(return 문)  28. 함수의 활용  29. 객체 예고  30. 객체 쓰기와 읽기  31. 객체와 반복문  32. 객체 프로퍼티와 메서드  33. 객체의 활용 34. 파일로 쪼개서 정리 정돈하기 35. 라이브러리와 프레임워크  36. UI vs. API  37. 수업을 마치며                  \n"
     ]
    }
   ],
   "source": [
    "for i in charter_html:\n",
    "    print(i.find('textarea').get_text())"
   ]
  },
  {
   "cell_type": "code",
   "execution_count": null,
   "metadata": {},
   "outputs": [],
   "source": []
  },
  {
   "cell_type": "code",
   "execution_count": null,
   "metadata": {},
   "outputs": [],
   "source": []
  },
  {
   "cell_type": "code",
   "execution_count": null,
   "metadata": {},
   "outputs": [],
   "source": []
  },
  {
   "cell_type": "code",
   "execution_count": null,
   "metadata": {},
   "outputs": [],
   "source": []
  },
  {
   "cell_type": "code",
   "execution_count": null,
   "metadata": {},
   "outputs": [],
   "source": []
  },
  {
   "cell_type": "code",
   "execution_count": 6,
   "metadata": {},
   "outputs": [],
   "source": [
    "import requests\n",
    "from bs4 import BeautifulSoup\n",
    "import urllib.request\n",
    "import os\n",
    "\n",
    "def book_requests(url):\n",
    "    URL = url\n",
    "    response = requests.get(URL)\n",
    "    search_html = response.text\n",
    "    soup = BeautifulSoup(search_html)\n",
    "    return soup\n",
    "\n",
    "\n",
    "def research_page_crawler(research_keyword='javascript'):\n",
    "    url = 'http://www.yes24.com/searchcorner/Search?keywordAd=&keyword=&domain=ALL&qdomain=%C0%FC%C3%BC&Wcode=001_005&query=' + research_keyword\n",
    "    soup = book_requests(url)\n",
    "    div_goodsList = soup.select_one('div.goodsList')\n",
    "    td_goods_infogrp = div_goodsList.select('td.goods_infogrp')\n",
    "\n",
    "    search_list = []\n",
    "    href_list = []\n",
    "    for i, ii in enumerate(td_goods_infogrp):\n",
    "        test = ii.select_one('a')\n",
    "        search_list.append(str(test.select_one('strong')).replace(\"<strong>\", \"\").replace(\"</strong>\", \"\"))\n",
    "        href = 'http://www.yes24.com' + test['href']\n",
    "        href_list.append(href)\n",
    "    print(href_list)\n",
    "    print(search_list)\n",
    "    book_research_list_data = {}\n",
    "    for href, title in zip(href_list, search_list):\n",
    "        book_research_list_data[title] = href\n",
    "    return book_research_list_data\n",
    "\n",
    "def detail_page_crawler(book_research_list_data, name=\"생활코딩! HTML+CSS+자바스크립트\", ):\n",
    "    soup = book_requests(book_research_list_data[name])\n",
    "    em_imgBdr = soup.find('em', class_='imgBdr')\n",
    "    imgURL = em_imgBdr.find(\"img\")['src']\n",
    "    outpath = os.path.dirname('/home/kimdooh/바탕화면/')\n",
    "    download_URL = em_imgBdr.find(\"img\")[\"alt\"] + '.jpg'\n",
    "    image_path = outpath + '/' + download_URL\n",
    "    # URL download\n",
    "    image_url = urllib.request.urlretrieve(imgURL, image_path)\n",
    "    # title\n",
    "    h2_gd_name = soup.select_one('h2.gd_name')\n",
    "    title = h2_gd_name.getText()\n",
    "    # 카테고리\n",
    "    categories = soup.find(\"dl\", class_=\"yesAlertDl\")\n",
    "    categories_order = categories.find('ul', class_='yesAlertLi')\n",
    "    categories_order_detail = []\n",
    "    for i in categories_order.find('li').find_all('a'):\n",
    "        categories_order_detail.append(i.get_text())\n",
    "    # ['국내도서', 'IT 모바일', '웹사이트', 'HTML/JavaScript/CSS/jQuery']\n",
    "    # 책소개\n",
    "    book_intro = soup.find('div', id='infoset_introduce')\n",
    "    book_introduce_textarea = book_intro.select_one('textarea', class_='txtContentText').get_text()#.replace(\"\\r\\n\", \"\")\n",
    "    #목차\n",
    "    \n",
    "    book_detail_info_dict={\n",
    "        'title' : title,\n",
    "        'image_path': image_path,\n",
    "        'category' : categories_order_detail,\n",
    "        'book_intro' : book_introduce_textarea,\n",
    "    }\n",
    "    return book_detail_info_dict"
   ]
  },
  {
   "cell_type": "code",
   "execution_count": 8,
   "metadata": {},
   "outputs": [
    {
     "name": "stdout",
     "output_type": "stream",
     "text": [
      "['http://www.yes24.com/Product/Goods/67883315?scode=032&OzSrank=1', 'http://www.yes24.com/Product/Goods/11781589?scode=032&OzSrank=2', 'http://www.yes24.com/Product/Goods/83573339?scode=032&OzSrank=3', 'http://www.yes24.com/Product/Goods/59461086?scode=032&OzSrank=4', 'http://www.yes24.com/Product/Goods/15381085?scode=032&OzSrank=5', 'http://www.yes24.com/Product/Goods/83494638?scode=032&OzSrank=6', 'http://www.yes24.com/Product/Goods/64692022?scode=032&OzSrank=7', 'http://www.yes24.com/Product/Goods/85019231?scode=032&OzSrank=8', 'http://www.yes24.com/Product/Goods/71127080?scode=032&OzSrank=9', 'http://www.yes24.com/Product/Goods/78165743?scode=032&OzSrank=10', 'http://www.yes24.com/Product/Goods/35306392?scode=032&OzSrank=11', 'http://www.yes24.com/Product/Goods/78586788?scode=032&OzSrank=12', 'http://www.yes24.com/Product/Goods/22885878?scode=032&OzSrank=13', 'http://www.yes24.com/Product/Goods/39116024?scode=032&OzSrank=14', 'http://www.yes24.com/Product/Goods/17945480?scode=032&OzSrank=15', 'http://www.yes24.com/Product/Goods/12209875?scode=032&OzSrank=16', 'http://www.yes24.com/Product/Goods/59156884?scode=032&OzSrank=17', 'http://www.yes24.com/Product/Goods/70746749?scode=032&OzSrank=18', 'http://www.yes24.com/Product/Goods/12453376?scode=032&OzSrank=19', 'http://www.yes24.com/Product/Goods/7179434?scode=032&OzSrank=20']\n",
      "['생활코딩! HTML+CSS+자바스크립트', '인사이드 자바스크립트 Inside JavaScript', 'Do it! 웹 사이트 따라 만들기', 'Do it! 자바스크립트 + 제이쿼리 입문', 'HTTP 완벽 가이드', '제주코딩베이스캠프 Code Festival , JavaScript 100제 1부', '리팩토링 자바스크립트 Refactoring JavaScript', '자바스크립트 코딩의 기술', 'Do it! 웹 프로그래밍을 위한 자바스크립트 기본 편', '자바스크립트로 하는 자료 구조와 알고리즘', '명품 HTML5+CSS3+Javascript 웹 프로그래밍', '코어 자바스크립트', 'Learning JavaScript Data Structures and Algorithms 한국어판', '모던 웹을 위한 JavaScript + jQuery 입문', 'JavaScript Promise - Hanbit eBook Realtime 90', '모던 자바스크립트 Modern JavaScript ', 'JavaScript가 보이는 그림책', '초보자를 위한 JavaScript 200제', 'JavaScript Testing ', 'iPhone JavaScript Cookbook 한국어판']\n"
     ]
    }
   ],
   "source": [
    "aa= research_page_crawler()"
   ]
  },
  {
   "cell_type": "code",
   "execution_count": 9,
   "metadata": {},
   "outputs": [
    {
     "data": {
      "text/plain": [
       "{'생활코딩! HTML+CSS+자바스크립트': 'http://www.yes24.com/Product/Goods/67883315?scode=032&OzSrank=1',\n",
       " '인사이드 자바스크립트 Inside JavaScript': 'http://www.yes24.com/Product/Goods/11781589?scode=032&OzSrank=2',\n",
       " 'Do it! 웹 사이트 따라 만들기': 'http://www.yes24.com/Product/Goods/83573339?scode=032&OzSrank=3',\n",
       " 'Do it! 자바스크립트 + 제이쿼리 입문': 'http://www.yes24.com/Product/Goods/59461086?scode=032&OzSrank=4',\n",
       " 'HTTP 완벽 가이드': 'http://www.yes24.com/Product/Goods/15381085?scode=032&OzSrank=5',\n",
       " '제주코딩베이스캠프 Code Festival , JavaScript 100제 1부': 'http://www.yes24.com/Product/Goods/83494638?scode=032&OzSrank=6',\n",
       " '리팩토링 자바스크립트 Refactoring JavaScript': 'http://www.yes24.com/Product/Goods/64692022?scode=032&OzSrank=7',\n",
       " '자바스크립트 코딩의 기술': 'http://www.yes24.com/Product/Goods/85019231?scode=032&OzSrank=8',\n",
       " 'Do it! 웹 프로그래밍을 위한 자바스크립트 기본 편': 'http://www.yes24.com/Product/Goods/71127080?scode=032&OzSrank=9',\n",
       " '자바스크립트로 하는 자료 구조와 알고리즘': 'http://www.yes24.com/Product/Goods/78165743?scode=032&OzSrank=10',\n",
       " '명품 HTML5+CSS3+Javascript 웹 프로그래밍': 'http://www.yes24.com/Product/Goods/35306392?scode=032&OzSrank=11',\n",
       " '코어 자바스크립트': 'http://www.yes24.com/Product/Goods/78586788?scode=032&OzSrank=12',\n",
       " 'Learning JavaScript Data Structures and Algorithms 한국어판': 'http://www.yes24.com/Product/Goods/22885878?scode=032&OzSrank=13',\n",
       " '모던 웹을 위한 JavaScript + jQuery 입문': 'http://www.yes24.com/Product/Goods/39116024?scode=032&OzSrank=14',\n",
       " 'JavaScript Promise - Hanbit eBook Realtime 90': 'http://www.yes24.com/Product/Goods/17945480?scode=032&OzSrank=15',\n",
       " '모던 자바스크립트 Modern JavaScript ': 'http://www.yes24.com/Product/Goods/12209875?scode=032&OzSrank=16',\n",
       " 'JavaScript가 보이는 그림책': 'http://www.yes24.com/Product/Goods/59156884?scode=032&OzSrank=17',\n",
       " '초보자를 위한 JavaScript 200제': 'http://www.yes24.com/Product/Goods/70746749?scode=032&OzSrank=18',\n",
       " 'JavaScript Testing ': 'http://www.yes24.com/Product/Goods/12453376?scode=032&OzSrank=19',\n",
       " 'iPhone JavaScript Cookbook 한국어판': 'http://www.yes24.com/Product/Goods/7179434?scode=032&OzSrank=20'}"
      ]
     },
     "execution_count": 9,
     "metadata": {},
     "output_type": "execute_result"
    }
   ],
   "source": [
    "aa"
   ]
  },
  {
   "cell_type": "code",
   "execution_count": 267,
   "metadata": {},
   "outputs": [
    {
     "name": "stdout",
     "output_type": "stream",
     "text": [
      "혼자 공부하는 파이썬 http://www.yes24.com/Product/Goods/74269975?scode=032&OzSrank=1\n",
      "Do it! 점프 투 파이썬 http://www.yes24.com/Product/Goods/74419916?scode=032&OzSrank=2\n",
      "밑바닥부터 시작하는 딥러닝  http://www.yes24.com/Product/Goods/34970929?scode=032&OzSrank=3\n",
      "밑바닥부터 시작하는 딥러닝 2 http://www.yes24.com/Product/Goods/72173703?scode=032&OzSrank=4\n",
      "머신 러닝 교과서 with 파이썬, 사이킷런, 텐서플로 http://www.yes24.com/Product/Goods/73270768?scode=032&OzSrank=5\n",
      "Do it! 점프 투 파이썬 + 딥러닝 입문 http://www.yes24.com/Product/Goods/79672557?scode=032&OzSrank=6\n",
      "케라스 창시자에게 배우는 딥러닝 http://www.yes24.com/Product/Goods/65050162?scode=032&OzSrank=7\n",
      "모두의 데이터 분석 with 파이썬 http://www.yes24.com/Product/Goods/72227684?scode=032&OzSrank=8\n",
      "파이썬 프로그래밍 http://www.yes24.com/Product/Goods/86023334?scode=032&OzSrank=9\n",
      "김도형의 데이터 사이언스 스쿨 수학 편 http://www.yes24.com/Product/Goods/82444473?scode=032&OzSrank=10\n",
      "파이썬 네트워크 프로그래밍 http://www.yes24.com/Product/Goods/86009533?scode=032&OzSrank=11\n",
      "딥러닝을 위한 최적화와 수치해석 http://www.yes24.com/Product/Goods/86354976?scode=032&OzSrank=12\n",
      "파이썬 자료구조와 알고리즘 http://www.yes24.com/Product/Goods/74971408?scode=032&OzSrank=13\n",
      "파이썬 라이브러리를 활용한 데이터 분석 http://www.yes24.com/Product/Goods/73268296?scode=032&OzSrank=14\n",
      "파이썬 기초 문법 http://www.yes24.com/Product/Goods/44025943?scode=032&OzSrank=15\n",
      "IoT 사물인터넷을 위한 라즈베리파이 4 정석 http://www.yes24.com/Product/Goods/83492347?scode=032&OzSrank=16\n",
      "모두의 파이썬 http://www.yes24.com/Product/Goods/66531799?scode=032&OzSrank=17\n",
      "파이썬 웹 프로그래밍, 실전편  http://www.yes24.com/Product/Goods/80855594?scode=032&OzSrank=18\n",
      "머신러닝 도감 http://www.yes24.com/Product/Goods/84809164?scode=032&OzSrank=19\n",
      "직장인을 위한 데이터 분석 실무 with 파이썬 http://www.yes24.com/Product/Goods/85435138?scode=032&OzSrank=20\n"
     ]
    }
   ],
   "source": [
    "for i, ii in a.items():\n",
    "    print(i, ii)"
   ]
  },
  {
   "cell_type": "code",
   "execution_count": 268,
   "metadata": {},
   "outputs": [],
   "source": [
    "name = '혼자 공부하는 파이썬'"
   ]
  },
  {
   "cell_type": "code",
   "execution_count": 269,
   "metadata": {},
   "outputs": [
    {
     "data": {
      "text/plain": [
       "{'title': '혼자 공부하는 파이썬',\n",
       " 'image_path': '/home/kimdooh/바탕화면/혼자 공부하는 파이썬.jpg',\n",
       " 'category': ['국내도서', 'IT 모바일', '프로그래밍 언어', '파이썬'],\n",
       " 'book_intro': '\\r\\n혼자 해도 충분하다!1:1 과외하듯 배우는 파이썬 프로그래밍 자습서(파이썬 최신 버전 반영)이 책은 독학으로 프로그래밍 언어를 처음 배우려는 입문자가, 혹은 파이썬을 배우려는 입문자가 ‘꼭 필요한 내용을 제대로’ 학습할 수 있도록 구성했다. ‘무엇을’, ‘어떻게’ 학습해야 할지조차 모르는 입문자의 막연한 마음을 살펴, 과외 선생님이 알려주듯 친절하게, 그러나 핵심적인 내용만 콕콕 집어준다. 책의 첫 페이지를 펼쳐서 마지막 페이지를 덮을 때까지, 혼자서도 충분히 파이썬을 배울 수 있다는 자신감과 확신이 계속될 것이다!                     '}"
      ]
     },
     "execution_count": 269,
     "metadata": {},
     "output_type": "execute_result"
    }
   ],
   "source": [
    "detail_page_crawler(a, name)"
   ]
  },
  {
   "cell_type": "code",
   "execution_count": null,
   "metadata": {},
   "outputs": [],
   "source": [
    "import pandas as pd\n",
    "df = pd.DataFrame(URL_code)"
   ]
  },
  {
   "cell_type": "code",
   "execution_count": null,
   "metadata": {},
   "outputs": [],
   "source": []
  },
  {
   "cell_type": "code",
   "execution_count": null,
   "metadata": {},
   "outputs": [],
   "source": []
  },
  {
   "cell_type": "code",
   "execution_count": null,
   "metadata": {},
   "outputs": [],
   "source": []
  },
  {
   "cell_type": "code",
   "execution_count": 10,
   "metadata": {},
   "outputs": [],
   "source": [
    "import requests\n",
    "from bs4 import BeautifulSoup\n",
    "import urllib.request\n",
    "import os\n",
    "\n",
    "\n",
    "def book_requests(url):\n",
    "    URL = url\n",
    "    response = requests.get(URL)\n",
    "    search_html = response.text\n",
    "    soup = BeautifulSoup(search_html)\n",
    "    return soup\n",
    "\n",
    "\n",
    "def research_page_crawler(research_keyword='javascript'):\n",
    "    url = 'http://www.yes24.com/searchcorner/Search?keywordAd=&keyword=&domain=ALL&qdomain=%C0%FC%C3%BC&Wcode=001_005&query=' + research_keyword\n",
    "    soup = book_requests(url)\n",
    "    div_goodsList = soup.select_one('div.goodsList')\n",
    "    td_goods_infogrp = div_goodsList.select('td.goods_infogrp')\n",
    "\n",
    "    search_list = []\n",
    "    href_list = []\n",
    "    for i, ii in enumerate(td_goods_infogrp):\n",
    "        test = ii.select_one('a')\n",
    "        search_list.append(str(test.select_one('strong')).replace(\"<strong>\", \"\").replace(\"</strong>\", \"\"))\n",
    "\n",
    "        href = 'http://www.yes24.com' + test['href']\n",
    "        href_list.append(href)\n",
    "        print(href_list)\n",
    "        print(search_list)\n",
    "        book_research_list_data = {}\n",
    "        for href, title in zip(href_list, search_list):\n",
    "            book_research_list_data[title] = href\n",
    "        return book_research_list_data\n"
   ]
  },
  {
   "cell_type": "code",
   "execution_count": 11,
   "metadata": {},
   "outputs": [
    {
     "name": "stdout",
     "output_type": "stream",
     "text": [
      "['http://www.yes24.com/Product/Goods/67883315?scode=032&OzSrank=1']\n",
      "['생활코딩! HTML+CSS+자바스크립트']\n"
     ]
    },
    {
     "data": {
      "text/plain": [
       "{'생활코딩! HTML+CSS+자바스크립트': 'http://www.yes24.com/Product/Goods/67883315?scode=032&OzSrank=1'}"
      ]
     },
     "execution_count": 11,
     "metadata": {},
     "output_type": "execute_result"
    }
   ],
   "source": [
    "research_page_crawler()"
   ]
  },
  {
   "cell_type": "code",
   "execution_count": null,
   "metadata": {},
   "outputs": [],
   "source": []
  }
 ],
 "metadata": {
  "kernelspec": {
   "display_name": "Django Shell-Plus",
   "language": "python",
   "name": "django_extensions"
  },
  "language_info": {
   "codemirror_mode": {
    "name": "ipython",
    "version": 3
   },
   "file_extension": ".py",
   "mimetype": "text/x-python",
   "name": "python",
   "nbconvert_exporter": "python",
   "pygments_lexer": "ipython3",
   "version": "3.7.5"
  }
 },
 "nbformat": 4,
 "nbformat_minor": 4
}
